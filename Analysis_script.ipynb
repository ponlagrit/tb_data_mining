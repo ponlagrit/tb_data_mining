{
  "nbformat": 4,
  "nbformat_minor": 0,
  "metadata": {
    "colab": {
      "name": "Analysis_script.ipynb",
      "provenance": []
    },
    "kernelspec": {
      "name": "ir",
      "display_name": "R"
    },
    "language_info": {
      "name": "R"
    },
    "accelerator": "GPU"
  },
  "cells": [
    {
      "cell_type": "markdown",
      "source": [
        "# **Set up:**\n",
        "First you need to install R kernel in your Jupyter. If you have no R kernel, you can alternatively go to this link: https://colab.research.google.com/drive/1aMPkM_hx9gxqM4JjV4IRqJofDptpNLW8?usp=sharing\n",
        "or\n",
        "Follow the commands in your local R."
      ],
      "metadata": {
        "id": "ZMS6K4fOg5eP"
      }
    },
    {
      "cell_type": "markdown",
      "source": [
        "**Install packages used**"
      ],
      "metadata": {
        "id": "5RUIOEzNhWoO"
      }
    },
    {
      "cell_type": "code",
      "execution_count": 19,
      "metadata": {
        "colab": {
          "base_uri": "https://localhost:8080/"
        },
        "id": "U2EsAFrRdkW-",
        "outputId": "07115db1-76a0-467e-d126-c8e360d67176"
      },
      "outputs": [
        {
          "output_type": "stream",
          "name": "stderr",
          "text": [
            "Installing package into ‘/usr/local/lib/R/site-library’\n",
            "(as ‘lib’ is unspecified)\n",
            "\n",
            "Installing package into ‘/usr/local/lib/R/site-library’\n",
            "(as ‘lib’ is unspecified)\n",
            "\n"
          ]
        }
      ],
      "source": [
        "Sys.setenv(PATH= paste(\"/conda/bin\" , Sys.getenv(\"PATH\"), sep = \":\" ) )\n",
        "install.packages('tidyverse', repos='http://cran.rstudio.com/')\n",
        "install.packages(\"epiDisplay\", repos = \"http://cran.rstudio.com/\")"
      ]
    },
    {
      "cell_type": "markdown",
      "source": [
        "**Clear working space**"
      ],
      "metadata": {
        "id": "bCXQuE5uhmKd"
      }
    },
    {
      "cell_type": "code",
      "source": [
        "rm(list=ls())"
      ],
      "metadata": {
        "id": "6H0Ezlh9VUQz"
      },
      "execution_count": 7,
      "outputs": []
    },
    {
      "cell_type": "markdown",
      "source": [
        "**Import packages to use**"
      ],
      "metadata": {
        "id": "dQiZ0y0uhryt"
      }
    },
    {
      "cell_type": "code",
      "source": [
        "library(tidyverse)\n",
        "library(epiDisplay)\n",
        "library(data.table)"
      ],
      "metadata": {
        "id": "uBSLfaJ5d4hh",
        "colab": {
          "base_uri": "https://localhost:8080/"
        },
        "outputId": "6c8a59b9-f60e-4057-e92f-a07ddf0a1a97"
      },
      "execution_count": 20,
      "outputs": [
        {
          "output_type": "stream",
          "name": "stderr",
          "text": [
            "Loading required package: foreign\n",
            "\n",
            "Loading required package: survival\n",
            "\n",
            "Loading required package: MASS\n",
            "\n",
            "\n",
            "Attaching package: ‘MASS’\n",
            "\n",
            "\n",
            "The following object is masked from ‘package:dplyr’:\n",
            "\n",
            "    select\n",
            "\n",
            "\n",
            "Loading required package: nnet\n",
            "\n",
            "\n",
            "Attaching package: ‘epiDisplay’\n",
            "\n",
            "\n",
            "The following object is masked from ‘package:ggplot2’:\n",
            "\n",
            "    alpha\n",
            "\n",
            "\n",
            "\n",
            "Attaching package: ‘data.table’\n",
            "\n",
            "\n",
            "The following objects are masked from ‘package:dplyr’:\n",
            "\n",
            "    between, first, last\n",
            "\n",
            "\n",
            "The following object is masked from ‘package:purrr’:\n",
            "\n",
            "    transpose\n",
            "\n",
            "\n"
          ]
        }
      ]
    },
    {
      "cell_type": "markdown",
      "source": [
        "**Online data import (Optional)**"
      ],
      "metadata": {
        "id": "6Od1MbiOh3AG"
      }
    },
    {
      "cell_type": "code",
      "source": [
        "temp <- tempfile()\n",
        "download.file(\"https://drive.google.com/uc?id=1pAy5L-BHCcAIVg1h4jOaPaWWlfPBYMVO&authuser=0&export=download\",\n",
        "  temp)"
      ],
      "metadata": {
        "id": "LNjEKyz_d9Zd"
      },
      "execution_count": 9,
      "outputs": []
    },
    {
      "cell_type": "markdown",
      "source": [
        "**Import data into R**\n",
        "Note that, if you need to run in your local R, you may use alternative command following hashtag#"
      ],
      "metadata": {
        "id": "1GvFUekAiD2G"
      }
    },
    {
      "cell_type": "code",
      "source": [
        "ccex<-readRDS(temp)\n",
        "#ccex<-readRDS(\"Data_of_sample_frame.rds\")"
      ],
      "metadata": {
        "id": "5oPm4ecJiuHR"
      },
      "execution_count": 10,
      "outputs": []
    },
    {
      "cell_type": "markdown",
      "source": [
        "# **Explore data**\n",
        "\n",
        "**Dictionary**\n",
        "\n",
        "> STRATA [Matched set of subjects]\n",
        "\n",
        "> PIDGEN [Individual ID generated]\n",
        "\n",
        "> SEX [Sex] : Male, Female\n",
        "\n",
        "> AGE [Age group] : 1-10, 11-20, 21-30, 31-40, 41-50, 51-60, 61-70, 71-80\n",
        "\n",
        "> STATUS [Groups of the subjects] : Case = TRUE, Control = FALSE\n",
        "\n",
        "> DIAGCODE [ICD-10 diagnoses]\n",
        "\n",
        "> DIAGTYPE [Type of ICD-10 diagnosis] : 1 = Principle diagnosis, 2 = Comorbidity, 3 = Complication, 4 = Other, 5 = External cause, 6 = Additional code, 7 = Morphology code\n",
        "\n",
        "Note that, the data were recorded as a long format, each subject could be diagnosed with many ICD-10 diagnoses. Hence, the PIDGEN may be repeated."
      ],
      "metadata": {
        "id": "EJEoxDJqjhKW"
      }
    },
    {
      "cell_type": "code",
      "source": [
        "head(ccex)"
      ],
      "metadata": {
        "id": "0wlXZq6vV0hg",
        "colab": {
          "base_uri": "https://localhost:8080/",
          "height": 286
        },
        "outputId": "5d489b71-0847-4a24-c4d1-a721289f2cdd"
      },
      "execution_count": 11,
      "outputs": [
        {
          "output_type": "display_data",
          "data": {
            "text/plain": [
              "  STRATA PIDGEN SEX    AGE     STATUS DIAGCODE DIAGTYPE P_WEEKS\n",
              "1 2070   0001   Male   (20,30]  TRUE  I828     1        25     \n",
              "2 1961   0002   Female (30,40] FALSE  J181     1        28     \n",
              "3 1264   0003   Male   (30,40] FALSE  C384     1        41     \n",
              "4 1264   0003   Male   (30,40] FALSE  M8565    5        21     \n",
              "5 1758   0004   Male   (30,40]  TRUE  D135     1         6     \n",
              "6 2138   2305   Female (30,40]  TRUE  J90      1        49     "
            ],
            "text/latex": "A data.table: 6 × 8\n\\begin{tabular}{r|llllllll}\n  & STRATA & PIDGEN & SEX & AGE & STATUS & DIAGCODE & DIAGTYPE & P\\_WEEKS\\\\\n  & <chr> & <chr> & <chr> & <fct> & <lgl> & <chr> & <int> & <int>\\\\\n\\hline\n\t1 & 2070 & 0001 & Male   & (20,30{]} &  TRUE & I828  & 1 & 25\\\\\n\t2 & 1961 & 0002 & Female & (30,40{]} & FALSE & J181  & 1 & 28\\\\\n\t3 & 1264 & 0003 & Male   & (30,40{]} & FALSE & C384  & 1 & 41\\\\\n\t4 & 1264 & 0003 & Male   & (30,40{]} & FALSE & M8565 & 5 & 21\\\\\n\t5 & 1758 & 0004 & Male   & (30,40{]} &  TRUE & D135  & 1 &  6\\\\\n\t6 & 2138 & 2305 & Female & (30,40{]} &  TRUE & J90   & 1 & 49\\\\\n\\end{tabular}\n",
            "text/markdown": "\nA data.table: 6 × 8\n\n| <!--/--> | STRATA &lt;chr&gt; | PIDGEN &lt;chr&gt; | SEX &lt;chr&gt; | AGE &lt;fct&gt; | STATUS &lt;lgl&gt; | DIAGCODE &lt;chr&gt; | DIAGTYPE &lt;int&gt; | P_WEEKS &lt;int&gt; |\n|---|---|---|---|---|---|---|---|---|\n| 1 | 2070 | 0001 | Male   | (20,30] |  TRUE | I828  | 1 | 25 |\n| 2 | 1961 | 0002 | Female | (30,40] | FALSE | J181  | 1 | 28 |\n| 3 | 1264 | 0003 | Male   | (30,40] | FALSE | C384  | 1 | 41 |\n| 4 | 1264 | 0003 | Male   | (30,40] | FALSE | M8565 | 5 | 21 |\n| 5 | 1758 | 0004 | Male   | (30,40] |  TRUE | D135  | 1 |  6 |\n| 6 | 2138 | 2305 | Female | (30,40] |  TRUE | J90   | 1 | 49 |\n\n",
            "text/html": [
              "<table class=\"dataframe\">\n",
              "<caption>A data.table: 6 × 8</caption>\n",
              "<thead>\n",
              "\t<tr><th></th><th scope=col>STRATA</th><th scope=col>PIDGEN</th><th scope=col>SEX</th><th scope=col>AGE</th><th scope=col>STATUS</th><th scope=col>DIAGCODE</th><th scope=col>DIAGTYPE</th><th scope=col>P_WEEKS</th></tr>\n",
              "\t<tr><th></th><th scope=col>&lt;chr&gt;</th><th scope=col>&lt;chr&gt;</th><th scope=col>&lt;chr&gt;</th><th scope=col>&lt;fct&gt;</th><th scope=col>&lt;lgl&gt;</th><th scope=col>&lt;chr&gt;</th><th scope=col>&lt;int&gt;</th><th scope=col>&lt;int&gt;</th></tr>\n",
              "</thead>\n",
              "<tbody>\n",
              "\t<tr><th scope=row>1</th><td>2070</td><td>0001</td><td>Male  </td><td>(20,30]</td><td> TRUE</td><td>I828 </td><td>1</td><td>25</td></tr>\n",
              "\t<tr><th scope=row>2</th><td>1961</td><td>0002</td><td>Female</td><td>(30,40]</td><td>FALSE</td><td>J181 </td><td>1</td><td>28</td></tr>\n",
              "\t<tr><th scope=row>3</th><td>1264</td><td>0003</td><td>Male  </td><td>(30,40]</td><td>FALSE</td><td>C384 </td><td>1</td><td>41</td></tr>\n",
              "\t<tr><th scope=row>4</th><td>1264</td><td>0003</td><td>Male  </td><td>(30,40]</td><td>FALSE</td><td>M8565</td><td>5</td><td>21</td></tr>\n",
              "\t<tr><th scope=row>5</th><td>1758</td><td>0004</td><td>Male  </td><td>(30,40]</td><td> TRUE</td><td>D135 </td><td>1</td><td> 6</td></tr>\n",
              "\t<tr><th scope=row>6</th><td>2138</td><td>2305</td><td>Female</td><td>(30,40]</td><td> TRUE</td><td>J90  </td><td>1</td><td>49</td></tr>\n",
              "</tbody>\n",
              "</table>\n"
            ]
          },
          "metadata": {}
        }
      ]
    },
    {
      "cell_type": "markdown",
      "source": [
        "**Check the number of cases and controls (in various case:control ratios):**\n",
        "One case can be matched to control with flexible criterias: 1:1, 1:2, 1:3, or 1:4 to put them into the sample frame as possible as they can be matched.\n",
        "\n",
        "\n",
        "> **!!!** If **1:5 or more **>> Only 4 controls would be randomly selected to be matched with the case.\n",
        "\n",
        "\n",
        "\n"
      ],
      "metadata": {
        "id": "e2oBimEHnuXE"
      }
    },
    {
      "cell_type": "code",
      "source": [
        "pt<-unique(ccex,by=\"PIDGEN\") %>% mutate(STATUS = ifelse(STATUS==TRUE,\"case\",\"control\")) %>% group_by(STRATA,STATUS) %>% summarise(number = n())\n",
        "pt<-as.data.frame(pt)\n",
        "ptc<-spread(data=pt,key=STATUS,value=number,fill=0)\n",
        "lrm<-ptc[ptc$case>0&ptc$control>0&!is.na(ptc$case)&!is.na(ptc$control),]\n",
        "mta<-lrm %>% group_by(case,control) %>% summarise(number = n()) %>% as.data.frame()\n",
        "mta$cum.case<-mta$case*mta$number\n",
        "mta$cum.control<-mta$control*mta$number\n",
        "print(mta)"
      ],
      "metadata": {
        "id": "DH42WiRtog95",
        "colab": {
          "base_uri": "https://localhost:8080/"
        },
        "outputId": "1be0ceb2-e5d6-4d29-d821-c798276f3052"
      },
      "execution_count": 12,
      "outputs": [
        {
          "output_type": "stream",
          "name": "stderr",
          "text": [
            "`summarise()` has grouped output by 'STRATA'. You can override using the `.groups` argument.\n",
            "`summarise()` has grouped output by 'case'. You can override using the `.groups` argument.\n"
          ]
        },
        {
          "output_type": "stream",
          "name": "stdout",
          "text": [
            "   case control number cum.case cum.control\n",
            "1     1       1     35       35          35\n",
            "2     1       2     17       17          34\n",
            "3     1       3     11       11          33\n",
            "4     1       4    273      273        1092\n",
            "5     2       2      1        2           2\n",
            "6     2       3      1        2           3\n",
            "7     2       4      1        2           4\n",
            "8     2       5      2        4          10\n",
            "9     2       7      2        4          14\n",
            "10    2       8     41       82         328\n",
            "11    3       2      1        3           2\n",
            "12    3       6      1        3           6\n",
            "13    3      10      1        3          10\n",
            "14    3      12     12       36         144\n",
            "15    4      16      5       20          80\n",
            "16    5      20      2       10          40\n",
            "17    6      24      4       24          96\n",
            "18    7      15      1        7          15\n",
            "19    7      27      1        7          27\n",
            "20    7      28      2       14          56\n",
            "21    8      23      1        8          23\n",
            "22    8      32      2       16          64\n"
          ]
        }
      ]
    },
    {
      "cell_type": "markdown",
      "source": [
        "**Explore age-sex distribution**"
      ],
      "metadata": {
        "id": "WcLSWku6s45T"
      }
    },
    {
      "cell_type": "code",
      "source": [
        "ccmat<-unique(ccex[STRATA %in% lrm$STRATA,],by=\"PIDGEN\") %>% mutate(STATUS = ifelse(STATUS==TRUE,\"case\",\"control\")) %>% group_by(SEX,AGE) %>% \n",
        "  summarise(mat=length(unique(STRATA)),total =n(),\n",
        "            case=sum(STATUS==\"case\"),control=sum(STATUS==\"control\")) %>%\n",
        "  as.data.frame()\n",
        "print(ccmat)"
      ],
      "metadata": {
        "id": "9p-jx1KPoriP",
        "colab": {
          "base_uri": "https://localhost:8080/"
        },
        "outputId": "7146d1d2-562c-4450-aa00-cf53738ebec3"
      },
      "execution_count": 14,
      "outputs": [
        {
          "output_type": "stream",
          "name": "stderr",
          "text": [
            "`summarise()` has grouped output by 'SEX'. You can override using the `.groups` argument.\n"
          ]
        },
        {
          "output_type": "stream",
          "name": "stdout",
          "text": [
            "      SEX     AGE mat total case control\n",
            "1  Female  (0,10]  26   170   34     136\n",
            "2  Female (10,20]  13    65   14      51\n",
            "3  Female (20,30]  23   141   29     112\n",
            "4  Female (30,40]  26   153   32     121\n",
            "5  Female (40,50]  12    74   16      58\n",
            "6  Female (50,60]  11    72   15      57\n",
            "7  Female (60,70]   8    51   11      40\n",
            "8  Female (70,80]   9    65   14      51\n",
            "9    Male  (0,10]  26   149   30     119\n",
            "10   Male (10,20]  13    80   16      64\n",
            "11   Male (20,30]  51   368   77     291\n",
            "12   Male (30,40]  47   355   74     281\n",
            "13   Male (40,50]  53   326   75     251\n",
            "14   Male (50,60]  49   286   67     219\n",
            "15   Male (60,70]  28   184   43     141\n",
            "16   Male (70,80]  22   162   36     126\n"
          ]
        }
      ]
    },
    {
      "cell_type": "markdown",
      "source": [
        "# **Analysis**"
      ],
      "metadata": {
        "id": "QmauCK4vtJl1"
      }
    },
    {
      "cell_type": "markdown",
      "source": [
        "**Loop computing of crude odd ratios for all ICD-10 diagnoses**"
      ],
      "metadata": {
        "id": "Ow04DWL8tlhr"
      }
    },
    {
      "cell_type": "code",
      "source": [
        "run1<-data.frame(run=1:length(unique(ccex$DIAGCODE)),DIAGCODE=unique(ccex$DIAGCODE))\n",
        "cror<-data.frame()\n",
        "for(i in 1:nrow(run1)){\n",
        "  upd<-NULL\n",
        "  lcc<-ccex\n",
        "  lcc$ex<-lcc$DIAGCODE==run1[i,2]\n",
        "  lcc<-lcc[order(-ex),]\n",
        "  lcc<-unique(lcc,by=\"PIDGEN\")\n",
        "  upd$dx<-run1[i,2]\n",
        "  upd$a<-nrow(lcc[STATUS==TRUE & ex==TRUE,])\n",
        "  upd$b<-nrow(lcc[STATUS==FALSE & ex==TRUE,])\n",
        "  upd$c<-nrow(lcc[STATUS==TRUE & ex==FALSE,])\n",
        "  upd$d<-nrow(lcc[STATUS==FALSE & ex==FALSE,])\n",
        "  upd$cror<-upd$a*upd$d/(upd$b*upd$c)\n",
        "  upd<-as.data.frame(upd)\n",
        "  cror<-rbind(cror,upd)\n",
        "}"
      ],
      "metadata": {
        "id": "WOrBKmdto79-"
      },
      "execution_count": 21,
      "outputs": []
    },
    {
      "cell_type": "markdown",
      "source": [
        "**Select ten common ICD-10 diagnoses preceding TB**"
      ],
      "metadata": {
        "id": "-prIPkZptPhi"
      }
    },
    {
      "cell_type": "code",
      "source": [
        "run2<-cbind(run=1:10,cror %>% arrange(-a,-cror) %>% head(10))\n",
        "print(run2)"
      ],
      "metadata": {
        "id": "z6TGNAdGpCg3",
        "colab": {
          "base_uri": "https://localhost:8080/"
        },
        "outputId": "99a8290c-f527-41e7-db0a-5ba1f48cb2ae"
      },
      "execution_count": 22,
      "outputs": [
        {
          "output_type": "stream",
          "name": "stdout",
          "text": [
            "   run   dx  a  b   c    d       cror\n",
            "1    1 J189 33 39 550 2079  3.1984615\n",
            "2    2 E876 30 99 553 2019  1.1063620\n",
            "3    3 J159 21 35 562 2083  2.2238434\n",
            "4    4 E871 20 33 563 2085  2.2444696\n",
            "5    5  J90 17  9 566 2109  7.0382803\n",
            "6    6 R042 10  1 573 2117 36.9458988\n",
            "7    7 J441 10 21 573 2097  1.7427076\n",
            "8    8 J181  9  6 574 2112  5.5191638\n",
            "9    9 A099  9 50 574 2068  0.6485017\n",
            "10  10 R509  8 35 575 2083  0.8280248\n"
          ]
        }
      ]
    },
    {
      "cell_type": "markdown",
      "source": [
        "**Conditional logistic regression for ten common ICD-10 diagnoses preceding TB**\n",
        "and also extract preceding duration before detection of TB for all of them."
      ],
      "metadata": {
        "id": "WKMv3xv6uMSq"
      }
    },
    {
      "cell_type": "code",
      "source": [
        "ror<-data.frame()\n",
        "for(i in 1:nrow(run2)){\n",
        "  upd<-NULL\n",
        "  lcc<-ccex\n",
        "  lcc$ex<-lcc$DIAGCODE==run2[i,2]\n",
        "  lcc<-lcc[order(-ex),]\n",
        "  lcc<-unique(lcc,by=\"PIDGEN\")\n",
        "  upd$dx<-run2[i,2]\n",
        "  upd$a<-run2$a[i]\n",
        "  upd$b<-run2$b[i]\n",
        "  upd$c<-run2$c[i]\n",
        "  upd$d<-run2$d[i]\n",
        "  clogit1 <- clogit(STATUS ~ ex+strata(STRATA),data=lcc) \n",
        "  cof<-summary(clogit1)\n",
        "  upd$or<-round(cof$conf.int[1],3)\n",
        "  upd$lo95<-round(cof$conf.int[3],3)\n",
        "  upd$up95<-round(cof$conf.int[4],3)\n",
        "  upd$pv<-ifelse(round(cof$coefficients[5],4)<0.001,\"<0.001\",round(cof$coefficients[5],4))\n",
        "  upd$pdq1<-round(as.numeric(summary(lcc$P_WEEKS[lcc$ex==TRUE])[2]),1)\n",
        "  upd$pdm<-round(as.numeric(summary(lcc$P_WEEKS[lcc$ex==TRUE])[3]),1)\n",
        "  upd$pdq3<-round(as.numeric(summary(lcc$P_WEEKS[lcc$ex==TRUE])[5]),1)\n",
        "  upd<-as.data.frame(upd)\n",
        "  ror<-rbind(ror,upd)\n",
        "}"
      ],
      "metadata": {
        "id": "vKwyx_wRpO8m"
      },
      "execution_count": 23,
      "outputs": []
    },
    {
      "cell_type": "code",
      "source": [
        "print(ror)"
      ],
      "metadata": {
        "id": "R3k92HhKpljv",
        "colab": {
          "base_uri": "https://localhost:8080/"
        },
        "outputId": "c9ae2932-8a5a-466b-b8db-2ee67b12e6b8"
      },
      "execution_count": 24,
      "outputs": [
        {
          "output_type": "stream",
          "name": "stdout",
          "text": [
            "     dx  a  b   c    d     or  lo95    up95     pv pdq1  pdm pdq3\n",
            "1  J189 33 39 550 2079  3.087 1.914   4.979 <0.001 18.8 31.0 42.2\n",
            "2  E876 30 99 553 2019  1.042 0.675   1.607 0.8541 17.0 30.0 40.0\n",
            "3  J159 21 35 562 2083  2.130 1.213   3.737 0.0084 14.0 23.0 33.2\n",
            "4  E871 20 33 563 2085  2.136 1.180   3.868 0.0122 18.0 25.0 37.0\n",
            "5   J90 17  9 566 2109  6.149 2.675  14.137 <0.001 21.0 29.5 46.0\n",
            "6  R042 10  1 573 2117 34.688 4.401 273.388 <0.001 13.0 30.0 35.5\n",
            "7  J441 10 21 573 2097  1.634 0.752   3.548  0.215 16.5 27.0 39.0\n",
            "8  J181  9  6 574 2112  6.194 2.045  18.766 0.0013 20.0 24.0 34.5\n",
            "9  A099  9 50 574 2068  0.631 0.306   1.300 0.2116 20.5 29.0 41.0\n",
            "10 R509  8 35 575 2083  0.854 0.392   1.858   0.69 15.0 33.0 42.0\n"
          ]
        }
      ]
    },
    {
      "cell_type": "markdown",
      "source": [
        "# **Check whether the ICD-10 diagnoses were mutually exclusive or not !!!**"
      ],
      "metadata": {
        "id": "6-o4dQQoxcTR"
      }
    },
    {
      "cell_type": "code",
      "source": [
        "case<-ccex[STATUS==TRUE & DIAGCODE %in% ror$dx,]"
      ],
      "metadata": {
        "id": "qNpbcyE4edMN"
      },
      "execution_count": 25,
      "outputs": []
    },
    {
      "cell_type": "code",
      "source": [
        "ggplot(case,aes(x=DIAGCODE,y=PIDGEN,group=PIDGEN))+geom_point()+geom_line()+theme_classic()"
      ],
      "metadata": {
        "id": "YCnVCN6MeqRI",
        "colab": {
          "base_uri": "https://localhost:8080/",
          "height": 437
        },
        "outputId": "f9e5f661-e3c9-4295-91a0-49a30893e40f"
      },
      "execution_count": 26,
      "outputs": [
        {
          "output_type": "display_data",
          "data": {
            "image/png": "[encoded data removed]",
            "text/plain": [
              "plot without title"
            ]
          },
          "metadata": {
            "image/png": {
              "width": 420,
              "height": 420
            }
          }
        }
      ]
    },
    {
      "cell_type": "code",
      "source": [
        "control<-ccex[STATUS==FALSE& DIAGCODE %in% ror$dx,]"
      ],
      "metadata": {
        "id": "pkDnz9HfzQiL"
      },
      "execution_count": 27,
      "outputs": []
    },
    {
      "cell_type": "code",
      "source": [
        "ggplot(control,aes(x=DIAGCODE,y=PIDGEN,group=PIDGEN))+geom_point()+geom_line()+theme_classic()"
      ],
      "metadata": {
        "id": "3px8qpR-zVuh",
        "colab": {
          "base_uri": "https://localhost:8080/",
          "height": 437
        },
        "outputId": "9b6d4348-b865-4e66-c66d-47a61c8ba242"
      },
      "execution_count": 28,
      "outputs": [
        {
          "output_type": "display_data",
          "data": {
            "image/png": "[encoded data removed]",
            "text/plain": [
              "plot without title"
            ]
          },
          "metadata": {
            "image/png": {
              "width": 420,
              "height": 420
            }
          }
        }
      ]
    },
    {
      "cell_type": "markdown",
      "source": [
        "Among ten common ICD-10 diagnoses preceding TB, E871 and E876 could accompany with others. The rest of them were mutually exclusive."
      ],
      "metadata": {
        "id": "1iPg1gMvzfwR"
      }
    },
    {
      "cell_type": "markdown",
      "source": [
        "# **Further exploration**\n",
        "Due to E871, the significant one accompanying with others, we explored more on its principal diagnosis for each TB patient. "
      ],
      "metadata": {
        "id": "6rLRe7QXz04I"
      }
    },
    {
      "cell_type": "code",
      "source": [
        "hpn<-ccex[STATUS == TRUE &  DIAGCODE ==\"E871\",]\n",
        "p_hpn<-ccex[PIDGEN %in% hpn$PIDGEN & DIAGTYPE == 1,]\n",
        "sum(duplicated(p_hpn$PIDGEN)) #check whethe someone had multiple pricipal diagnoses or not"
      ],
      "metadata": {
        "id": "WHy48Ysj1HLq",
        "colab": {
          "base_uri": "https://localhost:8080/",
          "height": 34
        },
        "outputId": "7ccc3333-3bb9-4448-ffa2-fc762b37b711"
      },
      "execution_count": 29,
      "outputs": [
        {
          "output_type": "display_data",
          "data": {
            "text/plain": [
              "[1] 0"
            ],
            "text/latex": "0",
            "text/markdown": "0",
            "text/html": [
              "0"
            ]
          },
          "metadata": {}
        }
      ]
    },
    {
      "cell_type": "markdown",
      "source": [
        "Each case has only one principal diagnosis"
      ],
      "metadata": {
        "id": "NwfOxyzU2V-h"
      }
    },
    {
      "cell_type": "code",
      "source": [
        "tab1(p_hpn$DIAGCODE)"
      ],
      "metadata": {
        "id": "6K1Siq5w2doH",
        "colab": {
          "base_uri": "https://localhost:8080/",
          "height": 755
        },
        "outputId": "d04264cc-f0c8-477b-8cfd-81af98110563"
      },
      "execution_count": 30,
      "outputs": [
        {
          "output_type": "display_data",
          "data": {
            "text/plain": [
              "p_hpn$DIAGCODE : \n",
              "        Frequency Percent Cum. percent\n",
              "J159            2      10           10\n",
              "J181            1       5           15\n",
              "J189           12      60           75\n",
              "J349            2      10           85\n",
              "R509            3      15          100\n",
              "  Total        20     100          100"
            ],
            "text/latex": "\\begin{description}\n\\item[\\$first.line] 'p\\_hpn\\$DIAGCODE : \\textbackslash{}n'\n\\item[\\$output.table] A matrix: 6 × 3 of type dbl\n\\begin{tabular}{r|lll}\n  & Frequency & Percent & Cum. percent\\\\\n\\hline\n\tJ159 &  2 &  10 &  10\\\\\n\tJ181 &  1 &   5 &  15\\\\\n\tJ189 & 12 &  60 &  75\\\\\n\tJ349 &  2 &  10 &  85\\\\\n\tR509 &  3 &  15 & 100\\\\\n\t  Total & 20 & 100 & 100\\\\\n\\end{tabular}\n\n\\end{description}\n",
            "text/markdown": "$first.line\n:   'p_hpn$DIAGCODE : \\n'\n$output.table\n:   \nA matrix: 6 × 3 of type dbl\n\n| <!--/--> | Frequency | Percent | Cum. percent |\n|---|---|---|---|\n| J159 |  2 |  10 |  10 |\n| J181 |  1 |   5 |  15 |\n| J189 | 12 |  60 |  75 |\n| J349 |  2 |  10 |  85 |\n| R509 |  3 |  15 | 100 |\n|   Total | 20 | 100 | 100 |\n\n\n\n\n",
            "text/html": [
              "<dl>\n",
              "\t<dt>$first.line</dt>\n",
              "\t\t<dd>'p_hpn$DIAGCODE : \\n'</dd>\n",
              "\t<dt>$output.table</dt>\n",
              "\t\t<dd><table class=\"dataframe\">\n",
              "<caption>A matrix: 6 × 3 of type dbl</caption>\n",
              "<thead>\n",
              "\t<tr><th></th><th scope=col>Frequency</th><th scope=col>Percent</th><th scope=col>Cum. percent</th></tr>\n",
              "</thead>\n",
              "<tbody>\n",
              "\t<tr><th scope=row>J159</th><td> 2</td><td> 10</td><td> 10</td></tr>\n",
              "\t<tr><th scope=row>J181</th><td> 1</td><td>  5</td><td> 15</td></tr>\n",
              "\t<tr><th scope=row>J189</th><td>12</td><td> 60</td><td> 75</td></tr>\n",
              "\t<tr><th scope=row>J349</th><td> 2</td><td> 10</td><td> 85</td></tr>\n",
              "\t<tr><th scope=row>R509</th><td> 3</td><td> 15</td><td>100</td></tr>\n",
              "\t<tr><th scope=row>  Total</th><td>20</td><td>100</td><td>100</td></tr>\n",
              "</tbody>\n",
              "</table>\n",
              "</dd>\n",
              "</dl>\n"
            ]
          },
          "metadata": {}
        },
        {
          "output_type": "display_data",
          "data": {
            "image/png": "[encoded data removed]",
            "text/plain": [
              "Plot with title “Distribution of p_hpn$DIAGCODE”"
            ]
          },
          "metadata": {
            "image/png": {
              "width": 420,
              "height": 420
            }
          }
        }
      ]
    }
  ]
}